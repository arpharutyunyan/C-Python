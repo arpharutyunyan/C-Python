{
 "cells": [
  {
   "cell_type": "markdown",
   "metadata": {},
   "source": [
    "Suffix Sums\n",
    "\n",
    "Ձեզ տրված է իրական թվերի A հաջորդականություն: Տպեք B հաջորդականությունը, \n",
    "որպեսզի B հաջորդականության i-րդ տարրը հավասար լինի A հաջորդականության բոլոր \n",
    "տարրերի գումարին, սկսած i-րդից:"
   ]
  },
  {
   "cell_type": "code",
   "execution_count": 35,
   "metadata": {},
   "outputs": [
    {
     "name": "stdout",
     "output_type": "stream",
     "text": [
      "[7.0, 5.5, 3]\n",
      "[15, 14, 12, 9, 5]\n"
     ]
    }
   ],
   "source": [
    "list1 = [1.5, 2.5, 3]\n",
    "list2 = [1, 2, 3, 4, 5]\n",
    "\n",
    "def suffix_sums(array):\n",
    "\n",
    "    b = []\n",
    "\n",
    "    size = len(array)\n",
    "    for i in range(size):\n",
    "        sum = 0\n",
    "        for j in range(i, size):\n",
    "            sum += array[j]\n",
    "\n",
    "        b.append(sum)\n",
    "\n",
    "    return b\n",
    "\n",
    "b = suffix_sums(list1)\n",
    "print(b)\n",
    "c = suffix_sums(list2)\n",
    "print(c)\n"
   ]
  },
  {
   "cell_type": "markdown",
   "metadata": {},
   "source": [
    "Largest Number\n",
    "\n",
    "Ձեզ տրվում է բնական թիվ։ Եթե հնարավոր է վերադասավորել/խառնել նրա թվանշանները եւ\n",
    "ստանալ ավելի մեծ թիվ, քան այն, ինչից սկսել եք, output -> Yes: Հակառակ դեպքում, output -\n",
    "> No : Օրինակ, հաշվի առնելով 3112-ը, դուք կարող եք վերադասավորել թվանշանները եւ\n",
    "ստանալ 3211, որը մեծ է 3112-ից, հետեւաբար պատասխանը Yes է: "
   ]
  },
  {
   "cell_type": "code",
   "execution_count": 34,
   "metadata": {},
   "outputs": [
    {
     "name": "stdout",
     "output_type": "stream",
     "text": [
      "2\tNo\n",
      "678\tYes\n",
      "88889\tYes\n",
      "99888740\tNo\n",
      "9414\tYes\n"
     ]
    }
   ],
   "source": [
    "# return array with numbers ex [3, 1, 1, 2]\n",
    "def to_array(num):\n",
    "    a = []\n",
    "    i = 1\n",
    "    \n",
    "    while num >= 1:\n",
    "\n",
    "        num_part = (num % (10**i))      # 3112 % 10 = 2\n",
    "        num = (num - num_part)          # 3112 - 2 = 3110\n",
    "        num_part //= 10**(i-1)          # 2 // 10^0 = 2, 10//10^2 =10\n",
    "        a.insert(0, num_part) \n",
    "        \n",
    "        i += 1\n",
    "\n",
    "    return a\n",
    "\n",
    "# checked if after the taken element where are at list one largest number, return true \n",
    "def check(array):\n",
    "\n",
    "    for i in range(len(array)):\n",
    "        for j in range(i, len(array)):\n",
    "            if array[j] > array[i]:\n",
    "                return 'Yes'\n",
    "\n",
    "    return 'No'\n",
    "\n",
    "# main function\n",
    "def largest_number(num):\n",
    "\n",
    "    array = to_array(num)\n",
    "    return check(array)\n",
    "\n",
    "given_numbers = [2, 678, 88889, 99888740, 9414]\n",
    "for num in given_numbers:\n",
    "    print(num, end='\\t')\n",
    "    print(largest_number(num))"
   ]
  },
  {
   "cell_type": "markdown",
   "metadata": {},
   "source": [
    "OR"
   ]
  },
  {
   "cell_type": "code",
   "execution_count": 38,
   "metadata": {},
   "outputs": [
    {
     "name": "stdout",
     "output_type": "stream",
     "text": [
      "2\tNo\n",
      "678\tYes\n",
      "88889\tYes\n",
      "99888740\tNo\n",
      "9414\tYes\n"
     ]
    }
   ],
   "source": [
    "# checked if after the taken element where are at list one largest number, return true \n",
    "def check(array):\n",
    "\n",
    "    for i in range(len(array)):\n",
    "        for j in range(i, len(array)):\n",
    "            if array[j] > array[i]:\n",
    "                return 'Yes'\n",
    "\n",
    "    return 'No'\n",
    "\n",
    "# main function\n",
    "def largest_number():\n",
    "\n",
    "    given_numbers = [2, 678, 88889, 99888740, 9414]\n",
    "\n",
    "    for num in given_numbers:\n",
    "        array = list(str(num))\n",
    "        print(num, end='\\t')\n",
    "        print(check(array))   \n",
    "\n",
    "largest_number()\n"
   ]
  },
  {
   "cell_type": "markdown",
   "metadata": {},
   "source": [
    "Cyclic shift\n",
    "\n",
    "Հերթականության ցիկլային տեղաշարժը դեպի աջ հաջորդականություն է, որը կառուցվում է \n",
    "սկզբնական հաջորդականության վերջին տարրը դեպի սկիզբ տեղափոխելով: Հաշվի առնելով\n",
    "N եւ k թվերը եւ N երկարության ամբողջ թվերի հաջորդականությունը, դուրս բերեք աջ k \n",
    "անգամ անցման արդյունքը:"
   ]
  },
  {
   "cell_type": "code",
   "execution_count": 44,
   "metadata": {},
   "outputs": [
    {
     "name": "stdout",
     "output_type": "stream",
     "text": [
      "[4, 5, 1, 2, 3]\n",
      "[1, 7, 1, 7, 2, 6]\n",
      "[9, 100, 6, 0, 1]\n",
      "[2, 9, 1]\n"
     ]
    }
   ],
   "source": [
    "n = 5\n",
    "k = 2\n",
    "array = [1, 2, 3, 4, 5]\n",
    "\n",
    "def cyclic_shift(array, k):\n",
    "\n",
    "    if len(array) == k:\n",
    "        return array\n",
    "\n",
    "    for i in range(k):\n",
    "        array.insert(0, array.pop())\n",
    "\n",
    "    return array\n",
    "\n",
    "print(cyclic_shift(array, k))\n",
    "print(cyclic_shift([7, 1, 7, 2, 6, 1], 1))\n",
    "print(cyclic_shift([9, 100, 6, 0, 1], 5))\n",
    "print(cyclic_shift([9, 1, 2], 1000))\n"
   ]
  }
 ],
 "metadata": {
  "kernelspec": {
   "display_name": "Python 3.10.6 64-bit",
   "language": "python",
   "name": "python3"
  },
  "language_info": {
   "codemirror_mode": {
    "name": "ipython",
    "version": 3
   },
   "file_extension": ".py",
   "mimetype": "text/x-python",
   "name": "python",
   "nbconvert_exporter": "python",
   "pygments_lexer": "ipython3",
   "version": "3.10.6"
  },
  "orig_nbformat": 4,
  "vscode": {
   "interpreter": {
    "hash": "916dbcbb3f70747c44a77c7bcd40155683ae19c65e1c03b4aa3499c5328201f1"
   }
  }
 },
 "nbformat": 4,
 "nbformat_minor": 2
}
